{
 "cells": [
  {
   "cell_type": "code",
   "execution_count": 7,
   "metadata": {},
   "outputs": [],
   "source": [
    "import sqlalchemy as sqlal"
   ]
  },
  {
   "cell_type": "code",
   "execution_count": 8,
   "metadata": {},
   "outputs": [],
   "source": [
    "import pandas as pd"
   ]
  },
  {
   "cell_type": "code",
   "execution_count": 9,
   "metadata": {},
   "outputs": [],
   "source": [
    "query = '''SELECT customer.Lastname, customer.Firstname, track.Name, album.Title FROM customer \n",
    "        INNER JOIN invoice ON customer.CustomerId = invoice.CustomerId \n",
    "        INNER JOIN invoiceline ON invoice.InvoiceId = invoiceline.InvoiceId \n",
    "        INNER JOIN track ON invoiceline.TrackId = track.TrackId \n",
    "        INNER JOIN album ON track.AlbumId = album.AlbumId \n",
    "        ORDER BY customer.Lastname, customer.Firstname;'''"
   ]
  },
  {
   "cell_type": "code",
   "execution_count": 10,
   "metadata": {},
   "outputs": [],
   "source": [
    "database = sqlal.create_engine('sqlite:///DataSources/Chinook_Sqlite.sqlite')"
   ]
  },
  {
   "cell_type": "code",
   "execution_count": 11,
   "metadata": {},
   "outputs": [],
   "source": [
    "df = pd.read_sql(query, database)"
   ]
  },
  {
   "cell_type": "code",
   "execution_count": 14,
   "metadata": {},
   "outputs": [
    {
     "data": {
      "text/html": [
       "<div>\n",
       "<style scoped>\n",
       "    .dataframe tbody tr th:only-of-type {\n",
       "        vertical-align: middle;\n",
       "    }\n",
       "\n",
       "    .dataframe tbody tr th {\n",
       "        vertical-align: top;\n",
       "    }\n",
       "\n",
       "    .dataframe thead th {\n",
       "        text-align: right;\n",
       "    }\n",
       "</style>\n",
       "<table border=\"1\" class=\"dataframe\">\n",
       "  <thead>\n",
       "    <tr style=\"text-align: right;\">\n",
       "      <th></th>\n",
       "      <th>LastName</th>\n",
       "      <th>FirstName</th>\n",
       "      <th>Name</th>\n",
       "      <th>Title</th>\n",
       "    </tr>\n",
       "  </thead>\n",
       "  <tbody>\n",
       "    <tr>\n",
       "      <th>0</th>\n",
       "      <td>Almeida</td>\n",
       "      <td>Roberto</td>\n",
       "      <td>Right Next Door to Hell</td>\n",
       "      <td>Use Your Illusion I</td>\n",
       "    </tr>\n",
       "    <tr>\n",
       "      <th>1</th>\n",
       "      <td>Almeida</td>\n",
       "      <td>Roberto</td>\n",
       "      <td>In The Evening</td>\n",
       "      <td>In Through The Out Door</td>\n",
       "    </tr>\n",
       "    <tr>\n",
       "      <th>2</th>\n",
       "      <td>Almeida</td>\n",
       "      <td>Roberto</td>\n",
       "      <td>Fool In The Rain</td>\n",
       "      <td>In Through The Out Door</td>\n",
       "    </tr>\n",
       "    <tr>\n",
       "      <th>3</th>\n",
       "      <td>Almeida</td>\n",
       "      <td>Roberto</td>\n",
       "      <td>Saudade Dos Aviões Da Panair (Conversando No Bar)</td>\n",
       "      <td>Minas</td>\n",
       "    </tr>\n",
       "    <tr>\n",
       "      <th>4</th>\n",
       "      <td>Almeida</td>\n",
       "      <td>Roberto</td>\n",
       "      <td>Caso Você Queira Saber</td>\n",
       "      <td>Minas</td>\n",
       "    </tr>\n",
       "    <tr>\n",
       "      <th>...</th>\n",
       "      <td>...</td>\n",
       "      <td>...</td>\n",
       "      <td>...</td>\n",
       "      <td>...</td>\n",
       "    </tr>\n",
       "    <tr>\n",
       "      <th>2235</th>\n",
       "      <td>Zimmermann</td>\n",
       "      <td>Fynn</td>\n",
       "      <td>Nothin' To Lose</td>\n",
       "      <td>Unplugged [Live]</td>\n",
       "    </tr>\n",
       "    <tr>\n",
       "      <th>2236</th>\n",
       "      <td>Zimmermann</td>\n",
       "      <td>Fynn</td>\n",
       "      <td>Since I've Been Loving You</td>\n",
       "      <td>BBC Sessions [Disc 2] [Live]</td>\n",
       "    </tr>\n",
       "    <tr>\n",
       "      <th>2237</th>\n",
       "      <td>Zimmermann</td>\n",
       "      <td>Fynn</td>\n",
       "      <td>Going To California</td>\n",
       "      <td>BBC Sessions [Disc 2] [Live]</td>\n",
       "    </tr>\n",
       "    <tr>\n",
       "      <th>2238</th>\n",
       "      <td>Zimmermann</td>\n",
       "      <td>Fynn</td>\n",
       "      <td>We're Gonna Groove</td>\n",
       "      <td>Coda</td>\n",
       "    </tr>\n",
       "    <tr>\n",
       "      <th>2239</th>\n",
       "      <td>Zimmermann</td>\n",
       "      <td>Fynn</td>\n",
       "      <td>Ozone Baby</td>\n",
       "      <td>Coda</td>\n",
       "    </tr>\n",
       "  </tbody>\n",
       "</table>\n",
       "<p>2240 rows × 4 columns</p>\n",
       "</div>"
      ],
      "text/plain": [
       "        LastName FirstName                                               Name  \\\n",
       "0        Almeida   Roberto                            Right Next Door to Hell   \n",
       "1        Almeida   Roberto                                     In The Evening   \n",
       "2        Almeida   Roberto                                   Fool In The Rain   \n",
       "3        Almeida   Roberto  Saudade Dos Aviões Da Panair (Conversando No Bar)   \n",
       "4        Almeida   Roberto                             Caso Você Queira Saber   \n",
       "...          ...       ...                                                ...   \n",
       "2235  Zimmermann      Fynn                                    Nothin' To Lose   \n",
       "2236  Zimmermann      Fynn                         Since I've Been Loving You   \n",
       "2237  Zimmermann      Fynn                                Going To California   \n",
       "2238  Zimmermann      Fynn                                 We're Gonna Groove   \n",
       "2239  Zimmermann      Fynn                                         Ozone Baby   \n",
       "\n",
       "                             Title  \n",
       "0              Use Your Illusion I  \n",
       "1          In Through The Out Door  \n",
       "2          In Through The Out Door  \n",
       "3                            Minas  \n",
       "4                            Minas  \n",
       "...                            ...  \n",
       "2235              Unplugged [Live]  \n",
       "2236  BBC Sessions [Disc 2] [Live]  \n",
       "2237  BBC Sessions [Disc 2] [Live]  \n",
       "2238                          Coda  \n",
       "2239                          Coda  \n",
       "\n",
       "[2240 rows x 4 columns]"
      ]
     },
     "execution_count": 14,
     "metadata": {},
     "output_type": "execute_result"
    }
   ],
   "source": [
    "df"
   ]
  },
  {
   "cell_type": "code",
   "execution_count": null,
   "metadata": {},
   "outputs": [],
   "source": []
  },
  {
   "cell_type": "code",
   "execution_count": null,
   "metadata": {},
   "outputs": [],
   "source": []
  }
 ],
 "metadata": {
  "kernelspec": {
   "display_name": "Python 3",
   "language": "python",
   "name": "python3"
  },
  "language_info": {
   "codemirror_mode": {
    "name": "ipython",
    "version": 3
   },
   "file_extension": ".py",
   "mimetype": "text/x-python",
   "name": "python",
   "nbconvert_exporter": "python",
   "pygments_lexer": "ipython3",
   "version": "3.8.1"
  }
 },
 "nbformat": 4,
 "nbformat_minor": 4
}
